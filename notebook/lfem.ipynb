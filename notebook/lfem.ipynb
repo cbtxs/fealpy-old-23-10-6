{
 "cells": [
  {
   "cell_type": "markdown",
   "id": "f05f7ffd",
   "metadata": {},
   "source": [
    "# 拉格朗日有限元"
   ]
  },
  {
   "cell_type": "markdown",
   "id": "3a2840a7",
   "metadata": {},
   "source": []
  }
 ],
 "metadata": {
  "kernelspec": {
   "display_name": "Python 3 (ipykernel)",
   "language": "python",
   "name": "python3"
  },
  "language_info": {
   "codemirror_mode": {
    "name": "ipython",
    "version": 3
   },
   "file_extension": ".py",
   "mimetype": "text/x-python",
   "name": "python",
   "nbconvert_exporter": "python",
   "pygments_lexer": "ipython3",
   "version": "3.10.12"
  }
 },
 "nbformat": 4,
 "nbformat_minor": 5
}
